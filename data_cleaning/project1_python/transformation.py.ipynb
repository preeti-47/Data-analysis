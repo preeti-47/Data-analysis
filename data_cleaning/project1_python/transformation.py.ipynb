{
 "cells": [
  {
   "cell_type": "code",
   "execution_count": 7,
   "id": "1b8cdfd9",
   "metadata": {},
   "outputs": [],
   "source": [
    "import pandas as pd"
   ]
  },
  {
   "cell_type": "code",
   "execution_count": 8,
   "id": "deb80430",
   "metadata": {},
   "outputs": [],
   "source": [
    "def clean_price(df):\n",
    "\n",
    "    df[\"price\"] = df[\"price\"].str.replace(\"£\", \"\").str.strip()\n",
    "\n",
    "    \"\"\"drop rows if price missing\"\"\"\n",
    "    df = df[df.price.str.len() > 1]\n",
    "\n",
    "    return df"
   ]
  },
  {
   "cell_type": "code",
   "execution_count": 9,
   "id": "2cd6a99b",
   "metadata": {},
   "outputs": [],
   "source": [
    "def fix_product_img_url(df):\n",
    "    df[\"product_img_url\"] = (\n",
    "        \"https://www.medema.co.uk\"\n",
    "        + df[\"product_img_url\"].str.split(\"|\", expand=True)[0].str[1:]\n",
    "    )\n",
    "    return df"
   ]
  },
  {
   "cell_type": "code",
   "execution_count": 10,
   "id": "0363f173",
   "metadata": {},
   "outputs": [],
   "source": [
    "def dtype_to_str(df):\n",
    "\n",
    "    df.fillna(\"\", inplace=True)\n",
    "\n",
    "    \"\"\"set dtype to str for each column\"\"\"\n",
    "    for column in df.columns:\n",
    "        df[column] = df[column].astype(str)\n",
    "\n",
    "    return df"
   ]
  },
  {
   "cell_type": "code",
   "execution_count": 11,
   "id": "4da6ad54",
   "metadata": {},
   "outputs": [],
   "source": [
    "def transform_data():\n",
    "\n",
    "    file_path = \"out/medema.co.uk/\"\n",
    "    input_file_name = file_path + \"medema_raw_data\"\n",
    "    out_file_name = file_path + \"medema\"\n",
    "\n",
    "    df = pd.read_csv(\"raw_data.csv\")\n",
    "\n",
    "    df = dtype_to_str(df)\n",
    "\n",
    "    \"\"\"apply steps\"\"\"\n",
    "    df = df.pipe(clean_price).pipe(fix_product_img_url)\n",
    "\n",
    "    cols = [\n",
    "        \"product_code\",\n",
    "        \"title\",\n",
    "        \"product_description\",\n",
    "        \"currency\",\n",
    "        \"price\",\n",
    "        \"product_quantity_raw\",\n",
    "        \"price_per_product_quantity_raw\",\n",
    "        \"tax_details\",\n",
    "        \"additional_manufacturer\",\n",
    "        \"manufacturers\",\n",
    "        \"product_info_url\",\n",
    "        \"country\",\n",
    "        \"product_img_url\",\n",
    "        \"availability\",\n",
    "    ]\n",
    "\n",
    "    df = dtype_to_str(df)\n",
    "\n",
    "    df = df.drop_duplicates()\n",
    "    df[cols].to_csv(\"output.csv\", index=False)\n",
    "#     df[cols].to_parquet(out_file_name + \".parquet\", index=False)"
   ]
  },
  {
   "cell_type": "code",
   "execution_count": 12,
   "id": "9c5a608a",
   "metadata": {},
   "outputs": [],
   "source": [
    "\n",
    "transform_data()"
   ]
  },
  {
   "cell_type": "code",
   "execution_count": null,
   "id": "455a1b12",
   "metadata": {},
   "outputs": [],
   "source": []
  },
  {
   "cell_type": "code",
   "execution_count": null,
   "id": "52dab1ac",
   "metadata": {},
   "outputs": [],
   "source": []
  },
  {
   "cell_type": "code",
   "execution_count": null,
   "id": "088b4bc8",
   "metadata": {},
   "outputs": [],
   "source": []
  }
 ],
 "metadata": {
  "kernelspec": {
   "display_name": "Python 3 (ipykernel)",
   "language": "python",
   "name": "python3"
  },
  "language_info": {
   "codemirror_mode": {
    "name": "ipython",
    "version": 3
   },
   "file_extension": ".py",
   "mimetype": "text/x-python",
   "name": "python",
   "nbconvert_exporter": "python",
   "pygments_lexer": "ipython3",
   "version": "3.8.10"
  }
 },
 "nbformat": 4,
 "nbformat_minor": 5
}
