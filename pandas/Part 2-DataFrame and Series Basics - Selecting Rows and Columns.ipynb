{
 "cells": [
  {
   "cell_type": "code",
   "execution_count": 3,
   "id": "a18886c0",
   "metadata": {},
   "outputs": [],
   "source": [
    "# SEries is single column of rows \n",
    "# series is collecetion of words , alphabets \n",
    "\n",
    "# A pandas Series is a one-dimensional array.\n",
    "# https://www.shiksha.com/online-courses/articles/series-vs-dataframe-in-pandas/"
   ]
  },
  {
   "cell_type": "code",
   "execution_count": 4,
   "id": "0688146a",
   "metadata": {},
   "outputs": [],
   "source": [
    "import pandas as pd"
   ]
  },
  {
   "cell_type": "code",
   "execution_count": 5,
   "id": "ba60b54c",
   "metadata": {},
   "outputs": [],
   "source": [
    "df = pd.read_csv('/home/preeti/Desktop/pandas/data/survey_results_public.csv')"
   ]
  },
  {
   "cell_type": "code",
   "execution_count": 6,
   "id": "61797a0f",
   "metadata": {},
   "outputs": [],
   "source": [
    "schema_df = pd.read_csv('/home/preeti/Desktop/pandas/data/survey_results_schema.csv')"
   ]
  },
  {
   "cell_type": "code",
   "execution_count": 7,
   "id": "db05f14f",
   "metadata": {},
   "outputs": [],
   "source": [
    "# schema_df"
   ]
  },
  {
   "cell_type": "code",
   "execution_count": 8,
   "id": "40114436",
   "metadata": {},
   "outputs": [],
   "source": [
    "pd.set_option('display.max_columns',89)\n",
    "pd.set_option('display.max_rows',85)"
   ]
  },
  {
   "cell_type": "code",
   "execution_count": 9,
   "id": "66f668fd",
   "metadata": {},
   "outputs": [],
   "source": [
    "# df.head()"
   ]
  },
  {
   "cell_type": "code",
   "execution_count": 10,
   "id": "6e404c43",
   "metadata": {},
   "outputs": [],
   "source": [
    "# schema_df"
   ]
  },
  {
   "cell_type": "code",
   "execution_count": 11,
   "id": "967ec7d0",
   "metadata": {},
   "outputs": [],
   "source": [
    "person = {\n",
    "    \"first_name\": \"Preeti\",\n",
    "    \"last_name\": \"Singh\",\n",
    "    \"email\": \"preetisingh12496@gmail.com\"\n",
    "}"
   ]
  },
  {
   "cell_type": "code",
   "execution_count": 12,
   "id": "d73d4710",
   "metadata": {},
   "outputs": [],
   "source": [
    "people = {\n",
    "    \"first_name\": [\"Preeti\"],\n",
    "    \"last_name\": [\"singh\"],\n",
    "    \"email\": [\"preeti@gmail.com\"] \n",
    "}\n",
    "    \n"
   ]
  },
  {
   "cell_type": "code",
   "execution_count": 13,
   "id": "f8126bb5",
   "metadata": {},
   "outputs": [],
   "source": [
    "people ={\n",
    "    \"first_name\": [\"Preeti\", \"vamika\",\"Preksha\" ],\n",
    "    \"second_name\":[\"Rajpoot\",\"mittal\",\"sharma\"],\n",
    "    \"email\": [\"preeti@gmail.com\",\"vamika@gmail.com\",\"preksha@gmail.com\"]\n",
    "}"
   ]
  },
  {
   "cell_type": "code",
   "execution_count": 14,
   "id": "ad3a7ad8",
   "metadata": {},
   "outputs": [],
   "source": [
    "import pandas as pd"
   ]
  },
  {
   "cell_type": "code",
   "execution_count": 15,
   "id": "ec2ec2ea",
   "metadata": {},
   "outputs": [],
   "source": [
    "df1 = pd.DataFrame(people)"
   ]
  },
  {
   "cell_type": "code",
   "execution_count": 16,
   "id": "03c79e92",
   "metadata": {},
   "outputs": [
    {
     "data": {
      "text/html": [
       "<div>\n",
       "<style scoped>\n",
       "    .dataframe tbody tr th:only-of-type {\n",
       "        vertical-align: middle;\n",
       "    }\n",
       "\n",
       "    .dataframe tbody tr th {\n",
       "        vertical-align: top;\n",
       "    }\n",
       "\n",
       "    .dataframe thead th {\n",
       "        text-align: right;\n",
       "    }\n",
       "</style>\n",
       "<table border=\"1\" class=\"dataframe\">\n",
       "  <thead>\n",
       "    <tr style=\"text-align: right;\">\n",
       "      <th></th>\n",
       "      <th>first_name</th>\n",
       "      <th>second_name</th>\n",
       "      <th>email</th>\n",
       "    </tr>\n",
       "  </thead>\n",
       "  <tbody>\n",
       "    <tr>\n",
       "      <th>0</th>\n",
       "      <td>Preeti</td>\n",
       "      <td>Rajpoot</td>\n",
       "      <td>preeti@gmail.com</td>\n",
       "    </tr>\n",
       "    <tr>\n",
       "      <th>1</th>\n",
       "      <td>vamika</td>\n",
       "      <td>mittal</td>\n",
       "      <td>vamika@gmail.com</td>\n",
       "    </tr>\n",
       "    <tr>\n",
       "      <th>2</th>\n",
       "      <td>Preksha</td>\n",
       "      <td>sharma</td>\n",
       "      <td>preksha@gmail.com</td>\n",
       "    </tr>\n",
       "  </tbody>\n",
       "</table>\n",
       "</div>"
      ],
      "text/plain": [
       "  first_name second_name              email\n",
       "0     Preeti     Rajpoot   preeti@gmail.com\n",
       "1     vamika      mittal   vamika@gmail.com\n",
       "2    Preksha      sharma  preksha@gmail.com"
      ]
     },
     "execution_count": 16,
     "metadata": {},
     "output_type": "execute_result"
    }
   ],
   "source": [
    "df1"
   ]
  },
  {
   "cell_type": "code",
   "execution_count": 17,
   "id": "c40146ff",
   "metadata": {},
   "outputs": [
    {
     "data": {
      "text/plain": [
       "0     preeti@gmail.com\n",
       "1     vamika@gmail.com\n",
       "2    preksha@gmail.com\n",
       "Name: email, dtype: object"
      ]
     },
     "execution_count": 17,
     "metadata": {},
     "output_type": "execute_result"
    }
   ],
   "source": [
    "# people['email']\n",
    "# people['email'][1]\n",
    "# people['email'][:1]\n",
    "# df1['email']       # prefer this cause email maybe attribute  or be value\n",
    "df1.email"
   ]
  },
  {
   "cell_type": "code",
   "execution_count": 18,
   "id": "d026b5ed",
   "metadata": {},
   "outputs": [
    {
     "data": {
      "text/plain": [
       "pandas.core.series.Series"
      ]
     },
     "execution_count": 18,
     "metadata": {},
     "output_type": "execute_result"
    }
   ],
   "source": [
    "type(df1['email'])"
   ]
  },
  {
   "cell_type": "code",
   "execution_count": 19,
   "id": "ddbb1eba",
   "metadata": {},
   "outputs": [
    {
     "data": {
      "text/plain": [
       "first_name     3\n",
       "second_name    3\n",
       "email          3\n",
       "dtype: int64"
      ]
     },
     "execution_count": 19,
     "metadata": {},
     "output_type": "execute_result"
    }
   ],
   "source": [
    "df1.count()\n",
    "# df1.columns.count()"
   ]
  },
  {
   "cell_type": "code",
   "execution_count": 20,
   "id": "a968a091",
   "metadata": {},
   "outputs": [
    {
     "data": {
      "text/html": [
       "<div>\n",
       "<style scoped>\n",
       "    .dataframe tbody tr th:only-of-type {\n",
       "        vertical-align: middle;\n",
       "    }\n",
       "\n",
       "    .dataframe tbody tr th {\n",
       "        vertical-align: top;\n",
       "    }\n",
       "\n",
       "    .dataframe thead th {\n",
       "        text-align: right;\n",
       "    }\n",
       "</style>\n",
       "<table border=\"1\" class=\"dataframe\">\n",
       "  <thead>\n",
       "    <tr style=\"text-align: right;\">\n",
       "      <th></th>\n",
       "      <th>first_name</th>\n",
       "      <th>email</th>\n",
       "    </tr>\n",
       "  </thead>\n",
       "  <tbody>\n",
       "    <tr>\n",
       "      <th>0</th>\n",
       "      <td>Preeti</td>\n",
       "      <td>preeti@gmail.com</td>\n",
       "    </tr>\n",
       "    <tr>\n",
       "      <th>1</th>\n",
       "      <td>vamika</td>\n",
       "      <td>vamika@gmail.com</td>\n",
       "    </tr>\n",
       "    <tr>\n",
       "      <th>2</th>\n",
       "      <td>Preksha</td>\n",
       "      <td>preksha@gmail.com</td>\n",
       "    </tr>\n",
       "  </tbody>\n",
       "</table>\n",
       "</div>"
      ],
      "text/plain": [
       "  first_name              email\n",
       "0     Preeti   preeti@gmail.com\n",
       "1     vamika   vamika@gmail.com\n",
       "2    Preksha  preksha@gmail.com"
      ]
     },
     "execution_count": 20,
     "metadata": {},
     "output_type": "execute_result"
    }
   ],
   "source": [
    "df1[['first_name','email']]   # to show the columns first_name and email"
   ]
  },
  {
   "cell_type": "code",
   "execution_count": 21,
   "id": "a097f215",
   "metadata": {},
   "outputs": [
    {
     "data": {
      "text/plain": [
       "0    preeti@gmail.com\n",
       "1    vamika@gmail.com\n",
       "Name: email, dtype: object"
      ]
     },
     "execution_count": 21,
     "metadata": {},
     "output_type": "execute_result"
    }
   ],
   "source": [
    "# to access rows\n",
    "# when we accesing the rows , index would be column names e.g first_name, second_name....\n",
    "df1.iloc[0]    # shows the first row \n",
    "df1.iloc[0,1]  # print the first value of second column\n",
    "df1.iloc[[0,1]] # shows first two rows of the the dataframe , \n",
    "df1.iloc[[0,1],2]  # shows the email of first two rows "
   ]
  },
  {
   "cell_type": "code",
   "execution_count": 23,
   "id": "e447a0a1",
   "metadata": {},
   "outputs": [
    {
     "data": {
      "text/plain": [
       "preeti@gmail.com     1\n",
       "vamika@gmail.com     1\n",
       "preksha@gmail.com    1\n",
       "Name: email, dtype: int64"
      ]
     },
     "execution_count": 23,
     "metadata": {},
     "output_type": "execute_result"
    }
   ],
   "source": [
    "df1['email'].value_counts()   # to count the number of  same values for column 'email'    *imp"
   ]
  },
  {
   "cell_type": "code",
   "execution_count": 33,
   "id": "8088f5ea",
   "metadata": {},
   "outputs": [
    {
     "data": {
      "text/html": [
       "<div>\n",
       "<style scoped>\n",
       "    .dataframe tbody tr th:only-of-type {\n",
       "        vertical-align: middle;\n",
       "    }\n",
       "\n",
       "    .dataframe tbody tr th {\n",
       "        vertical-align: top;\n",
       "    }\n",
       "\n",
       "    .dataframe thead th {\n",
       "        text-align: right;\n",
       "    }\n",
       "</style>\n",
       "<table border=\"1\" class=\"dataframe\">\n",
       "  <thead>\n",
       "    <tr style=\"text-align: right;\">\n",
       "      <th></th>\n",
       "      <th>first_name</th>\n",
       "      <th>second_name</th>\n",
       "      <th>email</th>\n",
       "    </tr>\n",
       "  </thead>\n",
       "  <tbody>\n",
       "    <tr>\n",
       "      <th>0</th>\n",
       "      <td>Preeti</td>\n",
       "      <td>Rajpoot</td>\n",
       "      <td>preeti@gmail.com</td>\n",
       "    </tr>\n",
       "    <tr>\n",
       "      <th>1</th>\n",
       "      <td>vamika</td>\n",
       "      <td>mittal</td>\n",
       "      <td>vamika@gmail.com</td>\n",
       "    </tr>\n",
       "    <tr>\n",
       "      <th>2</th>\n",
       "      <td>Preksha</td>\n",
       "      <td>sharma</td>\n",
       "      <td>preksha@gmail.com</td>\n",
       "    </tr>\n",
       "  </tbody>\n",
       "</table>\n",
       "</div>"
      ],
      "text/plain": [
       "  first_name second_name              email\n",
       "0     Preeti     Rajpoot   preeti@gmail.com\n",
       "1     vamika      mittal   vamika@gmail.com\n",
       "2    Preksha      sharma  preksha@gmail.com"
      ]
     },
     "execution_count": 33,
     "metadata": {},
     "output_type": "execute_result"
    }
   ],
   "source": [
    "df1.loc[0]\n",
    "df1.loc[[0], 'email']\n",
    "df1.loc[[0, 1, 2], 'email']   # last value also incude the is for row 2\n",
    "df1.loc[0:2, 'email']            # shows the rows from 0 to 2 for column 'email'  , \n",
    "df1.loc[0:2, 'first_name' : 'email']  # slicing also wor for column name  "
   ]
  },
  {
   "cell_type": "code",
   "execution_count": null,
   "id": "8b57ea57",
   "metadata": {},
   "outputs": [],
   "source": []
  },
  {
   "cell_type": "code",
   "execution_count": null,
   "id": "4b272f25",
   "metadata": {},
   "outputs": [],
   "source": []
  },
  {
   "cell_type": "code",
   "execution_count": null,
   "id": "d3145006",
   "metadata": {},
   "outputs": [],
   "source": []
  }
 ],
 "metadata": {
  "kernelspec": {
   "display_name": "Python 3 (ipykernel)",
   "language": "python",
   "name": "python3"
  },
  "language_info": {
   "codemirror_mode": {
    "name": "ipython",
    "version": 3
   },
   "file_extension": ".py",
   "mimetype": "text/x-python",
   "name": "python",
   "nbconvert_exporter": "python",
   "pygments_lexer": "ipython3",
   "version": "3.8.10"
  }
 },
 "nbformat": 4,
 "nbformat_minor": 5
}
